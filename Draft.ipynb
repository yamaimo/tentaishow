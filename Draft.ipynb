{
 "cells": [
  {
   "cell_type": "code",
   "execution_count": 1,
   "metadata": {},
   "outputs": [],
   "source": [
    "import numpy as np\n",
    "import pandas as pd\n",
    "import matplotlib.pyplot as plt\n",
    "%matplotlib inline"
   ]
  },
  {
   "cell_type": "code",
   "execution_count": 2,
   "metadata": {},
   "outputs": [],
   "source": [
    "example = \"\"\"\\\n",
    "-----------\n",
    "| | |o|*|o|\n",
    "--o--------\n",
    "| | | * | |\n",
    "---------o-\n",
    "|o|*|o| | |\n",
    "-----------\n",
    "| * | |*| |\n",
    "-----------\n",
    "| |o| | |o|\n",
    "-----------\n",
    "\"\"\""
   ]
  },
  {
   "cell_type": "code",
   "execution_count": 4,
   "metadata": {},
   "outputs": [
    {
     "name": "stdout",
     "output_type": "stream",
     "text": [
      "-----------\n",
      "| | |o|*|o|\n",
      "--o--------\n",
      "| | | * | |\n",
      "---------o-\n",
      "|o|*|o| | |\n",
      "-----------\n",
      "| * | |*| |\n",
      "-----------\n",
      "| |o| | |o|\n",
      "-----------\n",
      "\n"
     ]
    }
   ],
   "source": [
    "print(example)"
   ]
  },
  {
   "cell_type": "code",
   "execution_count": 12,
   "metadata": {},
   "outputs": [
    {
     "data": {
      "text/plain": [
       "['-----------',\n",
       " '| | |o|*|o|',\n",
       " '--o--------',\n",
       " '| | | * | |',\n",
       " '---------o-',\n",
       " '|o|*|o| | |',\n",
       " '-----------',\n",
       " '| * | |*| |',\n",
       " '-----------',\n",
       " '| |o| | |o|',\n",
       " '-----------']"
      ]
     },
     "execution_count": 12,
     "metadata": {},
     "output_type": "execute_result"
    }
   ],
   "source": [
    "lines = example.splitlines()\n",
    "lines"
   ]
  },
  {
   "cell_type": "code",
   "execution_count": 7,
   "metadata": {},
   "outputs": [],
   "source": [
    "from enum import Enum\n",
    "\n",
    "class Marker:\n",
    "    class Color(Enum):\n",
    "        WHITE = 0\n",
    "        BLACK = 1\n",
    "    \n",
    "    def __init__(self, color, row, col):\n",
    "        self.color = color\n",
    "        self.row = row\n",
    "        self.col = col"
   ]
  },
  {
   "cell_type": "code",
   "execution_count": 30,
   "metadata": {},
   "outputs": [
    {
     "name": "stdout",
     "output_type": "stream",
     "text": [
      "Color.WHITE, (0, 1)\n"
     ]
    }
   ],
   "source": [
    "marker = Marker(Marker.Color.WHITE, 0, 1)\n",
    "print(f'{marker.color}, ({marker.row}, {marker.col})')"
   ]
  },
  {
   "cell_type": "code",
   "execution_count": 36,
   "metadata": {},
   "outputs": [],
   "source": [
    "class Problem:\n",
    "    @classmethod\n",
    "    def read_str(cls, contents):\n",
    "        lines = contents.splitlines()\n",
    "        row_size = len(lines) // 2\n",
    "        col_size = len(lines[0]) // 2\n",
    "        markers = []\n",
    "        for r_idx, line in enumerate(lines[1:-1]):  # 最初と最後の行は冗長なので無視\n",
    "            for c_idx, char in enumerate(line[1:-1]): # 最初と最後の列は冗長なので無視\n",
    "                row = r_idx / 2\n",
    "                col = c_idx / 2\n",
    "                if char == 'o':\n",
    "                    marker = Marker(Marker.Color.WHITE, row, col)\n",
    "                    markers.append(marker)\n",
    "                elif char == '*':\n",
    "                    marker = Marker(Marker.Color.BLACK, row, col)\n",
    "                    markers.append(marker)\n",
    "        return cls(row_size, col_size, markers)\n",
    "    \n",
    "    @classmethod\n",
    "    def read_file(cls, filepath):\n",
    "        with open(filepath) as f:\n",
    "            contents = f.read()\n",
    "        return cls.read_str(contents)    \n",
    "    \n",
    "    def __init__(self, row_size, col_size, markers):\n",
    "        self.row_size = row_size\n",
    "        self.col_size = col_size\n",
    "        self.markers = markers"
   ]
  },
  {
   "cell_type": "code",
   "execution_count": 23,
   "metadata": {},
   "outputs": [],
   "source": [
    "problem = Problem.read_str(example)"
   ]
  },
  {
   "cell_type": "code",
   "execution_count": 29,
   "metadata": {},
   "outputs": [
    {
     "name": "stdout",
     "output_type": "stream",
     "text": [
      "5\n",
      "5\n",
      "Color.WHITE, (0.0, 2.0)\n",
      "Color.BLACK, (0.0, 3.0)\n",
      "Color.WHITE, (0.0, 4.0)\n",
      "Color.WHITE, (0.5, 0.5)\n",
      "Color.BLACK, (1.0, 2.5)\n",
      "Color.WHITE, (1.5, 4.0)\n",
      "Color.WHITE, (2.0, 0.0)\n",
      "Color.BLACK, (2.0, 1.0)\n",
      "Color.WHITE, (2.0, 2.0)\n",
      "Color.BLACK, (3.0, 0.5)\n",
      "Color.BLACK, (3.0, 3.0)\n",
      "Color.WHITE, (4.0, 1.0)\n",
      "Color.WHITE, (4.0, 4.0)\n"
     ]
    }
   ],
   "source": [
    "print(problem.row_size)\n",
    "print(problem.col_size)\n",
    "for marker in problem.markers:\n",
    "    print(f'{marker.color}, ({marker.row}, {marker.col})')"
   ]
  },
  {
   "cell_type": "code",
   "execution_count": 31,
   "metadata": {},
   "outputs": [],
   "source": [
    "from pathlib import Path"
   ]
  },
  {
   "cell_type": "code",
   "execution_count": 37,
   "metadata": {},
   "outputs": [],
   "source": [
    "example_dir = Path('example_problems')\n",
    "problem = Problem.read_file(example_dir/'example.txt')"
   ]
  },
  {
   "cell_type": "code",
   "execution_count": 38,
   "metadata": {},
   "outputs": [
    {
     "name": "stdout",
     "output_type": "stream",
     "text": [
      "5\n",
      "5\n",
      "Color.WHITE, (0.0, 2.0)\n",
      "Color.BLACK, (0.0, 3.0)\n",
      "Color.WHITE, (0.0, 4.0)\n",
      "Color.WHITE, (0.5, 0.5)\n",
      "Color.BLACK, (1.0, 2.5)\n",
      "Color.WHITE, (1.5, 4.0)\n",
      "Color.WHITE, (2.0, 0.0)\n",
      "Color.BLACK, (2.0, 1.0)\n",
      "Color.WHITE, (2.0, 2.0)\n",
      "Color.BLACK, (3.0, 0.5)\n",
      "Color.BLACK, (3.0, 3.0)\n",
      "Color.WHITE, (4.0, 1.0)\n",
      "Color.WHITE, (4.0, 4.0)\n"
     ]
    }
   ],
   "source": [
    "print(problem.row_size)\n",
    "print(problem.col_size)\n",
    "for marker in problem.markers:\n",
    "    print(f'{marker.color}, ({marker.row}, {marker.col})')"
   ]
  },
  {
   "cell_type": "code",
   "execution_count": 39,
   "metadata": {},
   "outputs": [
    {
     "name": "stdout",
     "output_type": "stream",
     "text": [
      "5\n",
      "4\n",
      "Color.WHITE, (1.0, 1.5)\n",
      "Color.BLACK, (2.0, 1.5)\n",
      "Color.WHITE, (3.0, 1.5)\n"
     ]
    }
   ],
   "source": [
    "day_problem = Problem.read_file(example_dir/'day.txt')\n",
    "print(day_problem.row_size)\n",
    "print(day_problem.col_size)\n",
    "for marker in day_problem.markers:\n",
    "    print(f'{marker.color}, ({marker.row}, {marker.col})')"
   ]
  },
  {
   "cell_type": "code",
   "execution_count": null,
   "metadata": {},
   "outputs": [],
   "source": []
  }
 ],
 "metadata": {
  "kernelspec": {
   "display_name": "Python 3",
   "language": "python",
   "name": "python3"
  },
  "language_info": {
   "codemirror_mode": {
    "name": "ipython",
    "version": 3
   },
   "file_extension": ".py",
   "mimetype": "text/x-python",
   "name": "python",
   "nbconvert_exporter": "python",
   "pygments_lexer": "ipython3",
   "version": "3.7.4"
  }
 },
 "nbformat": 4,
 "nbformat_minor": 4
}
