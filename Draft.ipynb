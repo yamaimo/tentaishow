{
 "cells": [
  {
   "cell_type": "code",
   "execution_count": 1,
   "metadata": {},
   "outputs": [],
   "source": [
    "import numpy as np\n",
    "import matplotlib.pyplot as plt\n",
    "%matplotlib inline"
   ]
  },
  {
   "cell_type": "code",
   "execution_count": 2,
   "metadata": {},
   "outputs": [],
   "source": [
    "example = \"\"\"\\\n",
    "-----------\n",
    "| | |o|*|o|\n",
    "--o--------\n",
    "| | | * | |\n",
    "---------o-\n",
    "|o|*|o| | |\n",
    "-----------\n",
    "| * | |*| |\n",
    "-----------\n",
    "| |o| | |o|\n",
    "-----------\n",
    "\"\"\""
   ]
  },
  {
   "cell_type": "code",
   "execution_count": 3,
   "metadata": {},
   "outputs": [
    {
     "name": "stdout",
     "output_type": "stream",
     "text": [
      "-----------\n",
      "| | |o|*|o|\n",
      "--o--------\n",
      "| | | * | |\n",
      "---------o-\n",
      "|o|*|o| | |\n",
      "-----------\n",
      "| * | |*| |\n",
      "-----------\n",
      "| |o| | |o|\n",
      "-----------\n",
      "\n"
     ]
    }
   ],
   "source": [
    "print(example)"
   ]
  },
  {
   "cell_type": "code",
   "execution_count": 4,
   "metadata": {},
   "outputs": [
    {
     "data": {
      "text/plain": [
       "['-----------',\n",
       " '| | |o|*|o|',\n",
       " '--o--------',\n",
       " '| | | * | |',\n",
       " '---------o-',\n",
       " '|o|*|o| | |',\n",
       " '-----------',\n",
       " '| * | |*| |',\n",
       " '-----------',\n",
       " '| |o| | |o|',\n",
       " '-----------']"
      ]
     },
     "execution_count": 4,
     "metadata": {},
     "output_type": "execute_result"
    }
   ],
   "source": [
    "lines = example.splitlines()\n",
    "lines"
   ]
  },
  {
   "cell_type": "code",
   "execution_count": 5,
   "metadata": {},
   "outputs": [],
   "source": [
    "from enum import Enum\n",
    "\n",
    "class Marker:\n",
    "    class Color(Enum):\n",
    "        WHITE = 0\n",
    "        BLACK = 1\n",
    "    \n",
    "    def __init__(self, color, row, col):\n",
    "        self.color = color\n",
    "        self.row = row\n",
    "        self.col = col"
   ]
  },
  {
   "cell_type": "code",
   "execution_count": 6,
   "metadata": {},
   "outputs": [
    {
     "name": "stdout",
     "output_type": "stream",
     "text": [
      "Color.WHITE, (0, 1)\n"
     ]
    }
   ],
   "source": [
    "marker = Marker(Marker.Color.WHITE, 0, 1)\n",
    "print(f'{marker.color}, ({marker.row}, {marker.col})')"
   ]
  },
  {
   "cell_type": "code",
   "execution_count": 7,
   "metadata": {},
   "outputs": [],
   "source": [
    "class Problem:\n",
    "    @classmethod\n",
    "    def read_str(cls, contents):\n",
    "        lines = contents.splitlines()\n",
    "        row_size = len(lines) // 2\n",
    "        col_size = len(lines[0]) // 2\n",
    "        markers = []\n",
    "        for r_idx, line in enumerate(lines[1:-1]):  # 最初と最後の行は冗長なので無視\n",
    "            for c_idx, char in enumerate(line[1:-1]): # 最初と最後の列は冗長なので無視\n",
    "                row = r_idx / 2\n",
    "                col = c_idx / 2\n",
    "                if char == 'o':\n",
    "                    marker = Marker(Marker.Color.WHITE, row, col)\n",
    "                    markers.append(marker)\n",
    "                elif char == '*':\n",
    "                    marker = Marker(Marker.Color.BLACK, row, col)\n",
    "                    markers.append(marker)\n",
    "        return cls(row_size, col_size, markers)\n",
    "    \n",
    "    @classmethod\n",
    "    def read_file(cls, filepath):\n",
    "        with open(filepath) as f:\n",
    "            contents = f.read()\n",
    "        return cls.read_str(contents)    \n",
    "    \n",
    "    def __init__(self, row_size, col_size, markers):\n",
    "        self.row_size = row_size\n",
    "        self.col_size = col_size\n",
    "        self.markers = markers"
   ]
  },
  {
   "cell_type": "code",
   "execution_count": 8,
   "metadata": {},
   "outputs": [],
   "source": [
    "problem = Problem.read_str(example)"
   ]
  },
  {
   "cell_type": "code",
   "execution_count": 9,
   "metadata": {},
   "outputs": [
    {
     "name": "stdout",
     "output_type": "stream",
     "text": [
      "5\n",
      "5\n",
      "Color.WHITE, (0.0, 2.0)\n",
      "Color.BLACK, (0.0, 3.0)\n",
      "Color.WHITE, (0.0, 4.0)\n",
      "Color.WHITE, (0.5, 0.5)\n",
      "Color.BLACK, (1.0, 2.5)\n",
      "Color.WHITE, (1.5, 4.0)\n",
      "Color.WHITE, (2.0, 0.0)\n",
      "Color.BLACK, (2.0, 1.0)\n",
      "Color.WHITE, (2.0, 2.0)\n",
      "Color.BLACK, (3.0, 0.5)\n",
      "Color.BLACK, (3.0, 3.0)\n",
      "Color.WHITE, (4.0, 1.0)\n",
      "Color.WHITE, (4.0, 4.0)\n"
     ]
    }
   ],
   "source": [
    "print(problem.row_size)\n",
    "print(problem.col_size)\n",
    "for marker in problem.markers:\n",
    "    print(f'{marker.color}, ({marker.row}, {marker.col})')"
   ]
  },
  {
   "cell_type": "code",
   "execution_count": 10,
   "metadata": {},
   "outputs": [],
   "source": [
    "from pathlib import Path"
   ]
  },
  {
   "cell_type": "code",
   "execution_count": 11,
   "metadata": {},
   "outputs": [],
   "source": [
    "example_dir = Path('example_problems')\n",
    "problem = Problem.read_file(example_dir/'example.txt')"
   ]
  },
  {
   "cell_type": "code",
   "execution_count": 12,
   "metadata": {},
   "outputs": [
    {
     "name": "stdout",
     "output_type": "stream",
     "text": [
      "5\n",
      "5\n",
      "[ 0] Color.WHITE, (0.0, 2.0)\n",
      "[ 1] Color.BLACK, (0.0, 3.0)\n",
      "[ 2] Color.WHITE, (0.0, 4.0)\n",
      "[ 3] Color.WHITE, (0.5, 0.5)\n",
      "[ 4] Color.BLACK, (1.0, 2.5)\n",
      "[ 5] Color.WHITE, (1.5, 4.0)\n",
      "[ 6] Color.WHITE, (2.0, 0.0)\n",
      "[ 7] Color.BLACK, (2.0, 1.0)\n",
      "[ 8] Color.WHITE, (2.0, 2.0)\n",
      "[ 9] Color.BLACK, (3.0, 0.5)\n",
      "[10] Color.BLACK, (3.0, 3.0)\n",
      "[11] Color.WHITE, (4.0, 1.0)\n",
      "[12] Color.WHITE, (4.0, 4.0)\n"
     ]
    }
   ],
   "source": [
    "print(problem.row_size)\n",
    "print(problem.col_size)\n",
    "for i, marker in enumerate(problem.markers):\n",
    "    print(f'[{i:2}] {marker.color}, ({marker.row}, {marker.col})')"
   ]
  },
  {
   "cell_type": "code",
   "execution_count": 13,
   "metadata": {},
   "outputs": [
    {
     "name": "stdout",
     "output_type": "stream",
     "text": [
      "5\n",
      "4\n",
      "[0] Color.WHITE, (1.0, 1.5)\n",
      "[1] Color.BLACK, (2.0, 1.5)\n",
      "[2] Color.WHITE, (3.0, 1.5)\n"
     ]
    }
   ],
   "source": [
    "day_problem = Problem.read_file(example_dir/'day.txt')\n",
    "print(day_problem.row_size)\n",
    "print(day_problem.col_size)\n",
    "for i, marker in enumerate(day_problem.markers):\n",
    "    print(f'[{i}] {marker.color}, ({marker.row}, {marker.col})')"
   ]
  },
  {
   "cell_type": "code",
   "execution_count": 14,
   "metadata": {},
   "outputs": [
    {
     "name": "stdout",
     "output_type": "stream",
     "text": [
      "9\n",
      "9\n",
      "[ 0] Color.WHITE, (0.0, 0.5)\n",
      "[ 1] Color.WHITE, (0.0, 4.0)\n",
      "[ 2] Color.WHITE, (0.0, 8.0)\n",
      "[ 3] Color.BLACK, (1.0, 1.5)\n",
      "[ 4] Color.BLACK, (1.0, 4.0)\n",
      "[ 5] Color.WHITE, (1.0, 7.0)\n",
      "[ 6] Color.BLACK, (1.5, 5.0)\n",
      "[ 7] Color.WHITE, (2.0, 2.0)\n",
      "[ 8] Color.WHITE, (2.0, 4.0)\n",
      "[ 9] Color.WHITE, (2.5, 7.0)\n",
      "[10] Color.BLACK, (3.0, 3.0)\n",
      "[11] Color.WHITE, (4.0, 0.0)\n",
      "[12] Color.WHITE, (4.0, 2.0)\n",
      "[13] Color.WHITE, (4.0, 4.0)\n",
      "[14] Color.BLACK, (4.0, 5.0)\n",
      "[15] Color.WHITE, (4.0, 7.0)\n",
      "[16] Color.BLACK, (5.0, 1.5)\n",
      "[17] Color.BLACK, (5.0, 6.0)\n",
      "[18] Color.WHITE, (5.5, 5.0)\n",
      "[19] Color.WHITE, (6.0, 1.0)\n",
      "[20] Color.WHITE, (6.0, 3.0)\n",
      "[21] Color.BLACK, (6.0, 6.5)\n",
      "[22] Color.WHITE, (6.0, 8.0)\n",
      "[23] Color.BLACK, (6.5, 4.0)\n",
      "[24] Color.BLACK, (7.0, 1.0)\n",
      "[25] Color.WHITE, (7.0, 6.0)\n",
      "[26] Color.WHITE, (7.5, 2.0)\n",
      "[27] Color.BLACK, (7.5, 8.0)\n",
      "[28] Color.BLACK, (8.0, 0.0)\n",
      "[29] Color.WHITE, (8.0, 3.0)\n",
      "[30] Color.BLACK, (8.0, 6.0)\n"
     ]
    }
   ],
   "source": [
    "oni_problem = Problem.read_file(example_dir/'oni.txt')\n",
    "print(oni_problem.row_size)\n",
    "print(oni_problem.col_size)\n",
    "for i, marker in enumerate(oni_problem.markers):\n",
    "    print(f'[{i:2}] {marker.color}, ({marker.row}, {marker.col})')"
   ]
  },
  {
   "cell_type": "code",
   "execution_count": 15,
   "metadata": {},
   "outputs": [],
   "source": [
    "def draw_problem(problem):\n",
    "    fig, ax = plt.subplots(figsize=(problem.col_size, problem.row_size))\n",
    "    ax.xaxis.set_visible(False)\n",
    "    ax.yaxis.set_visible(False)\n",
    "    ax.set_aspect('equal')\n",
    "    \n",
    "    # 座標を(x, y) = (col, -row)とし、\n",
    "    # 左上が(-0.5, 0.5)、右下が(problem.col_size - 0.5, -problem.row_size + 0.5)の矩形内に描画する\n",
    "    top = 0.5\n",
    "    bottom = -problem.row_size + 0.5\n",
    "    left = -0.5\n",
    "    right = problem.col_size - 0.5\n",
    "    \n",
    "    # 外枠\n",
    "    ax.plot([left, right, right, left, left], [top, top, bottom, bottom, top], lw=2, color='black')\n",
    "    \n",
    "    # 縦線\n",
    "    for col in range(problem.col_size - 1):\n",
    "        cell_right = col + 0.5\n",
    "        ax.plot([cell_right, cell_right], [top, bottom], lw=1, color='black', linestyle='dashed')\n",
    "\n",
    "    # 横線\n",
    "    for row in range(problem.row_size - 1):\n",
    "        cell_bottom = - row - 0.5\n",
    "        ax.plot([left, right], [cell_bottom, cell_bottom], lw=1, color='black', linestyle='dashed')\n",
    "\n",
    "    # マーカー\n",
    "    for marker in problem.markers:\n",
    "        color = 'white' if marker.color == Marker.Color.WHITE else 'black'\n",
    "        ax.scatter(marker.col, -marker.row, s=250, c=color, edgecolors='black', linewidths=2)\n",
    "\n",
    "    return fig"
   ]
  },
  {
   "cell_type": "code",
   "execution_count": 16,
   "metadata": {},
   "outputs": [
    {
     "data": {
      "image/png": "[encoded data removed]",
      "text/plain": [
       "<Figure size 360x360 with 1 Axes>"
      ]
     },
     "metadata": {
      "needs_background": "light"
     },
     "output_type": "display_data"
    }
   ],
   "source": [
    "example_fig = draw_problem(problem)\n",
    "example_fig;"
   ]
  },
  {
   "cell_type": "code",
   "execution_count": 17,
   "metadata": {},
   "outputs": [
    {
     "data": {
      "image/png": "[encoded data removed]",
      "text/plain": [
       "<Figure size 288x360 with 1 Axes>"
      ]
     },
     "metadata": {
      "needs_background": "light"
     },
     "output_type": "display_data"
    }
   ],
   "source": [
    "day_fig = draw_problem(day_problem)\n",
    "day_fig;"
   ]
  },
  {
   "cell_type": "code",
   "execution_count": 18,
   "metadata": {},
   "outputs": [
    {
     "data": {
      "image/png": "[encoded data removed]",
      "text/plain": [
       "<Figure size 648x648 with 1 Axes>"
      ]
     },
     "metadata": {
      "needs_background": "light"
     },
     "output_type": "display_data"
    }
   ],
   "source": [
    "oni_fig = draw_problem(oni_problem)\n",
    "oni_fig;"
   ]
  },
  {
   "cell_type": "raw",
   "metadata": {},
   "source": [
    "example_fig.savefig(example_dir/'example.png', bbox_inches='tight')\n",
    "day_fig.savefig(example_dir/'day.png', bbox_inches='tight')\n",
    "oni_fig.savefig(example_dir/'oni.png', bbox_inches='tight')"
   ]
  },
  {
   "cell_type": "code",
   "execution_count": 19,
   "metadata": {},
   "outputs": [],
   "source": [
    "import math\n",
    "import picos"
   ]
  },
  {
   "cell_type": "code",
   "execution_count": 20,
   "metadata": {},
   "outputs": [],
   "source": [
    "# 方向\n",
    "directions = ['up', 'right', 'down', 'left']"
   ]
  },
  {
   "cell_type": "code",
   "execution_count": 21,
   "metadata": {},
   "outputs": [],
   "source": [
    "def solve_by_picos(problem, solver='glpk'):\n",
    "    # 整数計画問題\n",
    "    ip = picos.Problem()\n",
    "    ip.set_objective('find')\n",
    "    \n",
    "    # 変数 ==========\n",
    "\n",
    "    # (row,col)のマスがmarkerに属するかどうか\n",
    "    belong = {}\n",
    "    for row in range(problem.row_size):\n",
    "        for col in range(problem.col_size):\n",
    "            for i, marker in enumerate(problem.markers):\n",
    "                belong[row,col,marker] = picos.BinaryVariable(f'belong_{row}_{col}_{i}')\n",
    "\n",
    "    # (row,col)のマスについて、directionのマスが親かどうか\n",
    "    parent = {}\n",
    "    for row in range(problem.row_size):\n",
    "        for col in range(problem.col_size):\n",
    "            for direction in directions:\n",
    "                parent[row,col,direction] = picos.BinaryVariable(f'parent_{row}_{col}_{direction}')\n",
    "\n",
    "    # 上端、右端、下端、左端については、各方向が親になることはないので、変数を0に置き換える\n",
    "    for row in range(problem.row_size):\n",
    "        # 左端は左が親にならない\n",
    "        parent[row,0,'left'] = 0\n",
    "        # 右端は右が親にならない\n",
    "        parent[row,problem.col_size-1,'right'] = 0\n",
    "    for col in range(problem.col_size):\n",
    "        # 上端は上が親にならない\n",
    "        parent[0,col,'up'] = 0\n",
    "        # 下端は下が親にならない\n",
    "        parent[problem.row_size-1,col,'down'] = 0\n",
    "    \n",
    "    # 制約 ==========\n",
    "    \n",
    "    # 各マーカーについて、明確に属するマスを制約として表現する\n",
    "    # このとき、明確に属するマスは親が不要なので、変数を0で置き換える\n",
    "    for marker in problem.markers:\n",
    "        row_range = range(math.floor(marker.row), math.ceil(marker.row)+1)\n",
    "        col_range = range(math.floor(marker.col), math.ceil(marker.col)+1)\n",
    "        for row in row_range:\n",
    "            for col in col_range:\n",
    "                ip.add_constraint(belong[row,col,marker] == 1)\n",
    "                for direction in directions:\n",
    "                    parent[row,col,direction] = 0\n",
    "\n",
    "    # 各マスはいずれかのマーカーに属する\n",
    "    for row in range(problem.row_size):\n",
    "        for col in range(problem.col_size):\n",
    "            belong_sum = sum(belong[row,col,marker] for marker in problem.markers)\n",
    "            ip.add_constraint(belong_sum == 1)\n",
    "\n",
    "    # 点対称の位置にあるマスは同じマーカーに属する\n",
    "    # NOTE:\n",
    "    # 点対称なマスに関して、以下が成り立つ：\n",
    "    #   (row + opposite_row) / 2 = marker.row, (col + opposite_col) / 2 = marker.col\n",
    "    # なので、点対称なマスの位置は、以下で計算できる：\n",
    "    #   opposite_row = 2*marker.row - row, opposite_col = 2*marker_col - col\n",
    "    # まず、点対称なマスが枠外になる場合、そのマスがマーカーに属することはない。\n",
    "    # そして、\n",
    "    #   opposite_row < row\n",
    "    # であれば、行についてマーカーを跨いで反対側に来ているので、すでに登録済み（再度登録はしない）であり、\n",
    "    #   opposite_row == row かつ opposite_col <= col\n",
    "    # のときも、マーカーのある行の列についてマーカーを跨いで反対側に来ているので、すでに登録済み（再度登録はしない）。\n",
    "    for marker in problem.markers:\n",
    "        for row in range(problem.row_size):\n",
    "            opposite_row = int(2*marker.row - row)\n",
    "            for col in range(problem.col_size):\n",
    "                opposite_col = int(2*marker.col - col)\n",
    "                \n",
    "                opposite_is_out = (\n",
    "                    (opposite_row < 0) or (problem.row_size <= opposite_row)\n",
    "                    or (opposite_col < 0) or (problem.col_size <= opposite_col)\n",
    "                )\n",
    "                if opposite_is_out:\n",
    "                    ip.add_constraint(belong[row,col,marker] == 0)\n",
    "                else:\n",
    "                    already_added = (\n",
    "                        (opposite_row < row)\n",
    "                        or ((opposite_row == row) and (opposite_col <= col))\n",
    "                    )\n",
    "                    if not already_added:\n",
    "                        ip.add_constraint(belong[row,col,marker] == belong[opposite_row,opposite_col,marker])\n",
    "\n",
    "    # 親が不要でないマスは、いずれか1つの方向が親になる\n",
    "    for row in range(problem.row_size):\n",
    "        for col in range(problem.col_size):\n",
    "            parent_sum = sum(parent[row,col,direction] for direction in directions)\n",
    "            if type(parent_sum) != int:\n",
    "                ip.add_constraint(parent_sum == 1)\n",
    "\n",
    "    # 隣り合ったマスで、親になるのは高々1つ\n",
    "    for row in range(problem.row_size):\n",
    "        for col in range(problem.col_size):\n",
    "            if col != (problem.col_size - 1):\n",
    "                horizontal_parent_sum = parent[row,col,'right'] + parent[row,col+1,'left']\n",
    "                if type(horizontal_parent_sum) != int:\n",
    "                    ip.add_constraint(horizontal_parent_sum <= 1)\n",
    "            if row != (problem.row_size - 1):\n",
    "                vertical_parent_sum = parent[row,col,'down'] + parent[row+1,col,'up']\n",
    "                if type(vertical_parent_sum) != int:\n",
    "                    ip.add_constraint(vertical_parent_sum <= 1)\n",
    "\n",
    "    # 親は子と同じマーカーに属する\n",
    "    # NOTE:\n",
    "    # directionの方向のマスが親（parent[row,col,direction] == 1）で、\n",
    "    # 子のマスがmarkerに属する（belong[row,col,marker] == 1）ならば、\n",
    "    # 親のマスもmarkerに属さなければならない（belong[parent_row,parent_col,marker] == 1）。\n",
    "    # この論理は以下の制約で表現できる：\n",
    "    #    parent[row,col,direction] + belong[row,col,marker] - 1 <= belong[parent_row,parent_col,marker]\n",
    "    # （両方の条件が満たされたときだけ左辺は1になる（それ以外は0以下）ことに注意）\n",
    "    for row in range(problem.row_size):\n",
    "        for col in range(problem.col_size):\n",
    "            for direction in directions:\n",
    "                if type(parent[row,col,direction]) != int:\n",
    "                    if direction == 'up':\n",
    "                        parent_row = row - 1\n",
    "                        parent_col = col\n",
    "                    elif direction == 'right':\n",
    "                        parent_row = row\n",
    "                        parent_col = col + 1\n",
    "                    elif direction == 'down':\n",
    "                        parent_row = row + 1\n",
    "                        parent_col = col\n",
    "                    else:\n",
    "                        parent_row = row\n",
    "                        parent_col = col - 1\n",
    "                    for marker in problem.markers:\n",
    "                        ip.add_constraint(parent[row,col,direction] + belong[row,col,marker] - 1 <= belong[parent_row,parent_col,marker])\n",
    "\n",
    "    ip.solve(solver=solver)\n",
    "    \n",
    "    # 答えの構築\n",
    "    # 各マスの属するマーカーが入ったndarrayを返す\n",
    "    answer = np.zeros((problem.row_size, problem.col_size), dtype=np.object)\n",
    "    for row in range(problem.row_size):\n",
    "        for col in range(problem.col_size):\n",
    "            for i, marker in enumerate(problem.markers):\n",
    "                if belong[row,col,marker].value == 1:\n",
    "                    answer[row,col] = marker\n",
    "                    break\n",
    "    \n",
    "    return answer"
   ]
  },
  {
   "cell_type": "code",
   "execution_count": 22,
   "metadata": {},
   "outputs": [
    {
     "name": "stdout",
     "output_type": "stream",
     "text": [
      "CPU times: user 389 ms, sys: 8.75 ms, total: 398 ms\n",
      "Wall time: 449 ms\n"
     ]
    },
    {
     "data": {
      "text/plain": [
       "array([[<__main__.Marker object at 0x7fb228067450>,\n",
       "        <__main__.Marker object at 0x7fb228067450>,\n",
       "        <__main__.Marker object at 0x7fb228067690>,\n",
       "        <__main__.Marker object at 0x7fb228067710>,\n",
       "        <__main__.Marker object at 0x7fb2280674d0>],\n",
       "       [<__main__.Marker object at 0x7fb228067450>,\n",
       "        <__main__.Marker object at 0x7fb228067450>,\n",
       "        <__main__.Marker object at 0x7fb228067390>,\n",
       "        <__main__.Marker object at 0x7fb228067390>,\n",
       "        <__main__.Marker object at 0x7fb2280675d0>],\n",
       "       [<__main__.Marker object at 0x7fb228067590>,\n",
       "        <__main__.Marker object at 0x7fb228067610>,\n",
       "        <__main__.Marker object at 0x7fb2280673d0>,\n",
       "        <__main__.Marker object at 0x7fb228067550>,\n",
       "        <__main__.Marker object at 0x7fb2280675d0>],\n",
       "       [<__main__.Marker object at 0x7fb228067410>,\n",
       "        <__main__.Marker object at 0x7fb228067410>,\n",
       "        <__main__.Marker object at 0x7fb228067550>,\n",
       "        <__main__.Marker object at 0x7fb228067550>,\n",
       "        <__main__.Marker object at 0x7fb228067550>],\n",
       "       [<__main__.Marker object at 0x7fb2280670d0>,\n",
       "        <__main__.Marker object at 0x7fb2280670d0>,\n",
       "        <__main__.Marker object at 0x7fb2280670d0>,\n",
       "        <__main__.Marker object at 0x7fb228067550>,\n",
       "        <__main__.Marker object at 0x7fb228067290>]], dtype=object)"
      ]
     },
     "execution_count": 22,
     "metadata": {},
     "output_type": "execute_result"
    }
   ],
   "source": [
    "%time solve_by_picos(problem)"
   ]
  },
  {
   "cell_type": "code",
   "execution_count": 23,
   "metadata": {},
   "outputs": [
    {
     "name": "stdout",
     "output_type": "stream",
     "text": [
      "CPU times: user 146 ms, sys: 2.87 ms, total: 149 ms\n",
      "Wall time: 154 ms\n"
     ]
    },
    {
     "data": {
      "text/plain": [
       "array([[<__main__.Marker object at 0x7fb22807c550>,\n",
       "        <__main__.Marker object at 0x7fb22807c550>,\n",
       "        <__main__.Marker object at 0x7fb22807c550>,\n",
       "        <__main__.Marker object at 0x7fb22807c550>],\n",
       "       [<__main__.Marker object at 0x7fb22807c550>,\n",
       "        <__main__.Marker object at 0x7fb22807c510>,\n",
       "        <__main__.Marker object at 0x7fb22807c510>,\n",
       "        <__main__.Marker object at 0x7fb22807c550>],\n",
       "       [<__main__.Marker object at 0x7fb22807c550>,\n",
       "        <__main__.Marker object at 0x7fb22807c550>,\n",
       "        <__main__.Marker object at 0x7fb22807c550>,\n",
       "        <__main__.Marker object at 0x7fb22807c550>],\n",
       "       [<__main__.Marker object at 0x7fb22807c550>,\n",
       "        <__main__.Marker object at 0x7fb22807c590>,\n",
       "        <__main__.Marker object at 0x7fb22807c590>,\n",
       "        <__main__.Marker object at 0x7fb22807c550>],\n",
       "       [<__main__.Marker object at 0x7fb22807c550>,\n",
       "        <__main__.Marker object at 0x7fb22807c550>,\n",
       "        <__main__.Marker object at 0x7fb22807c550>,\n",
       "        <__main__.Marker object at 0x7fb22807c550>]], dtype=object)"
      ]
     },
     "execution_count": 23,
     "metadata": {},
     "output_type": "execute_result"
    }
   ],
   "source": [
    "%time solve_by_picos(day_problem)"
   ]
  },
  {
   "cell_type": "code",
   "execution_count": 24,
   "metadata": {},
   "outputs": [
    {
     "name": "stdout",
     "output_type": "stream",
     "text": [
      "CPU times: user 4.98 s, sys: 29.8 ms, total: 5.01 s\n",
      "Wall time: 5.05 s\n"
     ]
    },
    {
     "data": {
      "text/plain": [
       "array([[<__main__.Marker object at 0x7fb22807ce90>,\n",
       "        <__main__.Marker object at 0x7fb22807ce90>,\n",
       "        <__main__.Marker object at 0x7fb22807ced0>,\n",
       "        <__main__.Marker object at 0x7fb22807cc90>,\n",
       "        <__main__.Marker object at 0x7fb22807cc90>,\n",
       "        <__main__.Marker object at 0x7fb22807cc90>,\n",
       "        <__main__.Marker object at 0x7fb22807cf50>,\n",
       "        <__main__.Marker object at 0x7fb22807cf50>,\n",
       "        <__main__.Marker object at 0x7fb22807cd50>],\n",
       "       [<__main__.Marker object at 0x7fb228082110>,\n",
       "        <__main__.Marker object at 0x7fb22807ced0>,\n",
       "        <__main__.Marker object at 0x7fb22807ced0>,\n",
       "        <__main__.Marker object at 0x7fb2280820d0>,\n",
       "        <__main__.Marker object at 0x7fb22807cf10>,\n",
       "        <__main__.Marker object at 0x7fb22807cfd0>,\n",
       "        <__main__.Marker object at 0x7fb22807cf50>,\n",
       "        <__main__.Marker object at 0x7fb22807cf90>,\n",
       "        <__main__.Marker object at 0x7fb22807cf50>],\n",
       "       [<__main__.Marker object at 0x7fb228082110>,\n",
       "        <__main__.Marker object at 0x7fb22807ced0>,\n",
       "        <__main__.Marker object at 0x7fb228082050>,\n",
       "        <__main__.Marker object at 0x7fb2280820d0>,\n",
       "        <__main__.Marker object at 0x7fb228082090>,\n",
       "        <__main__.Marker object at 0x7fb22807cfd0>,\n",
       "        <__main__.Marker object at 0x7fb22807cf50>,\n",
       "        <__main__.Marker object at 0x7fb22807cf50>,\n",
       "        <__main__.Marker object at 0x7fb22807cf50>],\n",
       "       [<__main__.Marker object at 0x7fb228082110>,\n",
       "        <__main__.Marker object at 0x7fb2280820d0>,\n",
       "        <__main__.Marker object at 0x7fb2280820d0>,\n",
       "        <__main__.Marker object at 0x7fb2280820d0>,\n",
       "        <__main__.Marker object at 0x7fb2280820d0>,\n",
       "        <__main__.Marker object at 0x7fb2280820d0>,\n",
       "        <__main__.Marker object at 0x7fb22807cf50>,\n",
       "        <__main__.Marker object at 0x7fb22807cf50>,\n",
       "        <__main__.Marker object at 0x7fb22807cf50>],\n",
       "       [<__main__.Marker object at 0x7fb228082110>,\n",
       "        <__main__.Marker object at 0x7fb228082250>,\n",
       "        <__main__.Marker object at 0x7fb228082150>,\n",
       "        <__main__.Marker object at 0x7fb2280820d0>,\n",
       "        <__main__.Marker object at 0x7fb228082190>,\n",
       "        <__main__.Marker object at 0x7fb2280821d0>,\n",
       "        <__main__.Marker object at 0x7fb22807cf50>,\n",
       "        <__main__.Marker object at 0x7fb228082210>,\n",
       "        <__main__.Marker object at 0x7fb22807cf50>],\n",
       "       [<__main__.Marker object at 0x7fb228082110>,\n",
       "        <__main__.Marker object at 0x7fb228082250>,\n",
       "        <__main__.Marker object at 0x7fb228082250>,\n",
       "        <__main__.Marker object at 0x7fb2280820d0>,\n",
       "        <__main__.Marker object at 0x7fb228082410>,\n",
       "        <__main__.Marker object at 0x7fb2280822d0>,\n",
       "        <__main__.Marker object at 0x7fb228082290>,\n",
       "        <__main__.Marker object at 0x7fb22807cf50>,\n",
       "        <__main__.Marker object at 0x7fb22807cf50>],\n",
       "       [<__main__.Marker object at 0x7fb228082110>,\n",
       "        <__main__.Marker object at 0x7fb228082310>,\n",
       "        <__main__.Marker object at 0x7fb228082250>,\n",
       "        <__main__.Marker object at 0x7fb228082350>,\n",
       "        <__main__.Marker object at 0x7fb228082410>,\n",
       "        <__main__.Marker object at 0x7fb2280822d0>,\n",
       "        <__main__.Marker object at 0x7fb228082390>,\n",
       "        <__main__.Marker object at 0x7fb228082390>,\n",
       "        <__main__.Marker object at 0x7fb2280823d0>],\n",
       "       [<__main__.Marker object at 0x7fb228082110>,\n",
       "        <__main__.Marker object at 0x7fb228082450>,\n",
       "        <__main__.Marker object at 0x7fb2280824d0>,\n",
       "        <__main__.Marker object at 0x7fb2280824d0>,\n",
       "        <__main__.Marker object at 0x7fb228082410>,\n",
       "        <__main__.Marker object at 0x7fb228082490>,\n",
       "        <__main__.Marker object at 0x7fb228082490>,\n",
       "        <__main__.Marker object at 0x7fb228082490>,\n",
       "        <__main__.Marker object at 0x7fb228082510>],\n",
       "       [<__main__.Marker object at 0x7fb228082550>,\n",
       "        <__main__.Marker object at 0x7fb2280824d0>,\n",
       "        <__main__.Marker object at 0x7fb2280824d0>,\n",
       "        <__main__.Marker object at 0x7fb228082590>,\n",
       "        <__main__.Marker object at 0x7fb228082410>,\n",
       "        <__main__.Marker object at 0x7fb2280825d0>,\n",
       "        <__main__.Marker object at 0x7fb2280825d0>,\n",
       "        <__main__.Marker object at 0x7fb2280825d0>,\n",
       "        <__main__.Marker object at 0x7fb228082510>]], dtype=object)"
      ]
     },
     "execution_count": 24,
     "metadata": {},
     "output_type": "execute_result"
    }
   ],
   "source": [
    "%time solve_by_picos(oni_problem)"
   ]
  },
  {
   "cell_type": "code",
   "execution_count": 25,
   "metadata": {},
   "outputs": [],
   "source": [
    "import pulp"
   ]
  },
  {
   "cell_type": "code",
   "execution_count": 26,
   "metadata": {},
   "outputs": [],
   "source": [
    "def solve_by_pulp(problem):\n",
    "    # 整数計画問題\n",
    "    ip = pulp.LpProblem()\n",
    "    \n",
    "    # 変数 ==========\n",
    "\n",
    "    # (row,col)のマスがmarkerに属するかどうか\n",
    "    belong = {}\n",
    "    for row in range(problem.row_size):\n",
    "        for col in range(problem.col_size):\n",
    "            for i, marker in enumerate(problem.markers):\n",
    "                belong[row,col,marker] = pulp.LpVariable(f'belong_{row}_{col}_{i}', cat='Binary')\n",
    "\n",
    "    # (row,col)のマスについて、directionのマスが親かどうか\n",
    "    parent = {}\n",
    "    for row in range(problem.row_size):\n",
    "        for col in range(problem.col_size):\n",
    "            for direction in directions:\n",
    "                parent[row,col,direction] = pulp.LpVariable(f'parent_{row}_{col}_{direction}', cat='Binary')\n",
    "\n",
    "    # 上端、右端、下端、左端については、各方向が親になることはないので、変数を0に置き換える\n",
    "    for row in range(problem.row_size):\n",
    "        # 左端は左が親にならない\n",
    "        parent[row,0,'left'] = 0\n",
    "        # 右端は右が親にならない\n",
    "        parent[row,problem.col_size-1,'right'] = 0\n",
    "    for col in range(problem.col_size):\n",
    "        # 上端は上が親にならない\n",
    "        parent[0,col,'up'] = 0\n",
    "        # 下端は下が親にならない\n",
    "        parent[problem.row_size-1,col,'down'] = 0\n",
    "    \n",
    "    # 制約 ==========\n",
    "    \n",
    "    # 各マーカーについて、明確に属するマスを制約として表現する\n",
    "    # このとき、明確に属するマスは親が不要なので、変数を0で置き換える\n",
    "    for marker in problem.markers:\n",
    "        row_range = range(math.floor(marker.row), math.ceil(marker.row)+1)\n",
    "        col_range = range(math.floor(marker.col), math.ceil(marker.col)+1)\n",
    "        for row in row_range:\n",
    "            for col in col_range:\n",
    "                ip.addConstraint(belong[row,col,marker] == 1)\n",
    "                for direction in directions:\n",
    "                    parent[row,col,direction] = 0\n",
    "\n",
    "    # 各マスはいずれかのマーカーに属する\n",
    "    for row in range(problem.row_size):\n",
    "        for col in range(problem.col_size):\n",
    "            belong_sum = sum(belong[row,col,marker] for marker in problem.markers)\n",
    "            ip.addConstraint(belong_sum == 1)\n",
    "\n",
    "    # 点対称の位置にあるマスは同じマーカーに属する\n",
    "    # NOTE:\n",
    "    # 点対称なマスに関して、以下が成り立つ：\n",
    "    #   (row + opposite_row) / 2 = marker.row, (col + opposite_col) / 2 = marker.col\n",
    "    # なので、点対称なマスの位置は、以下で計算できる：\n",
    "    #   opposite_row = 2*marker.row - row, opposite_col = 2*marker_col - col\n",
    "    # まず、点対称なマスが枠外になる場合、そのマスがマーカーに属することはない。\n",
    "    # そして、\n",
    "    #   opposite_row < row\n",
    "    # であれば、行についてマーカーを跨いで反対側に来ているので、すでに登録済み（再度登録はしない）であり、\n",
    "    #   opposite_row == row かつ opposite_col <= col\n",
    "    # のときも、マーカーのある行の列についてマーカーを跨いで反対側に来ているので、すでに登録済み（再度登録はしない）。\n",
    "    for marker in problem.markers:\n",
    "        for row in range(problem.row_size):\n",
    "            opposite_row = int(2*marker.row - row)\n",
    "            for col in range(problem.col_size):\n",
    "                opposite_col = int(2*marker.col - col)\n",
    "                \n",
    "                opposite_is_out = (\n",
    "                    (opposite_row < 0) or (problem.row_size <= opposite_row)\n",
    "                    or (opposite_col < 0) or (problem.col_size <= opposite_col)\n",
    "                )\n",
    "                if opposite_is_out:\n",
    "                    ip.addConstraint(belong[row,col,marker] == 0)\n",
    "                else:\n",
    "                    already_added = (\n",
    "                        (opposite_row < row)\n",
    "                        or ((opposite_row == row) and (opposite_col <= col))\n",
    "                    )\n",
    "                    if not already_added:\n",
    "                        ip.addConstraint(belong[row,col,marker] == belong[opposite_row,opposite_col,marker])\n",
    "\n",
    "    # 親が不要でないマスは、いずれか1つの方向が親になる\n",
    "    for row in range(problem.row_size):\n",
    "        for col in range(problem.col_size):\n",
    "            parent_sum = sum(parent[row,col,direction] for direction in directions)\n",
    "            if type(parent_sum) != int:\n",
    "                ip.addConstraint(parent_sum == 1)\n",
    "\n",
    "    # 隣り合ったマスで、親になるのは高々1つ\n",
    "    for row in range(problem.row_size):\n",
    "        for col in range(problem.col_size):\n",
    "            if col != (problem.col_size - 1):\n",
    "                horizontal_parent_sum = parent[row,col,'right'] + parent[row,col+1,'left']\n",
    "                if type(horizontal_parent_sum) != int:\n",
    "                    ip.addConstraint(horizontal_parent_sum <= 1)\n",
    "            if row != (problem.row_size - 1):\n",
    "                vertical_parent_sum = parent[row,col,'down'] + parent[row+1,col,'up']\n",
    "                if type(vertical_parent_sum) != int:\n",
    "                    ip.addConstraint(vertical_parent_sum <= 1)\n",
    "\n",
    "    # 親は子と同じマーカーに属する\n",
    "    # NOTE:\n",
    "    # directionの方向のマスが親（parent[row,col,direction] == 1）で、\n",
    "    # 子のマスがmarkerに属する（belong[row,col,marker] == 1）ならば、\n",
    "    # 親のマスもmarkerに属さなければならない（belong[parent_row,parent_col,marker] == 1）。\n",
    "    # この論理は以下の制約で表現できる：\n",
    "    #    parent[row,col,direction] + belong[row,col,marker] - 1 <= belong[parent_row,parent_col,marker]\n",
    "    # （両方の条件が満たされたときだけ左辺は1になる（それ以外は0以下）ことに注意）\n",
    "    for row in range(problem.row_size):\n",
    "        for col in range(problem.col_size):\n",
    "            for direction in directions:\n",
    "                if type(parent[row,col,direction]) != int:\n",
    "                    if direction == 'up':\n",
    "                        parent_row = row - 1\n",
    "                        parent_col = col\n",
    "                    elif direction == 'right':\n",
    "                        parent_row = row\n",
    "                        parent_col = col + 1\n",
    "                    elif direction == 'down':\n",
    "                        parent_row = row + 1\n",
    "                        parent_col = col\n",
    "                    else:\n",
    "                        parent_row = row\n",
    "                        parent_col = col - 1\n",
    "                    for marker in problem.markers:\n",
    "                        ip.addConstraint(parent[row,col,direction] + belong[row,col,marker] - 1 <= belong[parent_row,parent_col,marker])\n",
    "\n",
    "    status = ip.solve()\n",
    "    assert status == pulp.LpStatusOptimal\n",
    "    \n",
    "    # 答えの構築\n",
    "    # 各マスの属するマーカーが入ったndarrayを返す\n",
    "    answer = np.zeros((problem.row_size, problem.col_size), dtype=np.object)\n",
    "    for row in range(problem.row_size):\n",
    "        for col in range(problem.col_size):\n",
    "            for i, marker in enumerate(problem.markers):\n",
    "                if belong[row,col,marker].value() == 1:\n",
    "                    answer[row,col] = marker\n",
    "                    break\n",
    "    \n",
    "    return answer"
   ]
  },
  {
   "cell_type": "code",
   "execution_count": 27,
   "metadata": {},
   "outputs": [
    {
     "name": "stdout",
     "output_type": "stream",
     "text": [
      "CPU times: user 32.4 ms, sys: 7.37 ms, total: 39.8 ms\n",
      "Wall time: 118 ms\n"
     ]
    },
    {
     "data": {
      "text/plain": [
       "array([[<__main__.Marker object at 0x7fb228067450>,\n",
       "        <__main__.Marker object at 0x7fb228067450>,\n",
       "        <__main__.Marker object at 0x7fb228067690>,\n",
       "        <__main__.Marker object at 0x7fb228067710>,\n",
       "        <__main__.Marker object at 0x7fb2280674d0>],\n",
       "       [<__main__.Marker object at 0x7fb228067450>,\n",
       "        <__main__.Marker object at 0x7fb228067450>,\n",
       "        <__main__.Marker object at 0x7fb228067390>,\n",
       "        <__main__.Marker object at 0x7fb228067390>,\n",
       "        <__main__.Marker object at 0x7fb2280675d0>],\n",
       "       [<__main__.Marker object at 0x7fb228067590>,\n",
       "        <__main__.Marker object at 0x7fb228067610>,\n",
       "        <__main__.Marker object at 0x7fb2280673d0>,\n",
       "        <__main__.Marker object at 0x7fb228067550>,\n",
       "        <__main__.Marker object at 0x7fb2280675d0>],\n",
       "       [<__main__.Marker object at 0x7fb228067410>,\n",
       "        <__main__.Marker object at 0x7fb228067410>,\n",
       "        <__main__.Marker object at 0x7fb228067550>,\n",
       "        <__main__.Marker object at 0x7fb228067550>,\n",
       "        <__main__.Marker object at 0x7fb228067550>],\n",
       "       [<__main__.Marker object at 0x7fb2280670d0>,\n",
       "        <__main__.Marker object at 0x7fb2280670d0>,\n",
       "        <__main__.Marker object at 0x7fb2280670d0>,\n",
       "        <__main__.Marker object at 0x7fb228067550>,\n",
       "        <__main__.Marker object at 0x7fb228067290>]], dtype=object)"
      ]
     },
     "execution_count": 27,
     "metadata": {},
     "output_type": "execute_result"
    }
   ],
   "source": [
    "%time solve_by_pulp(problem)"
   ]
  },
  {
   "cell_type": "code",
   "execution_count": 28,
   "metadata": {},
   "outputs": [
    {
     "name": "stdout",
     "output_type": "stream",
     "text": [
      "CPU times: user 13.6 ms, sys: 6.03 ms, total: 19.7 ms\n",
      "Wall time: 62.8 ms\n"
     ]
    },
    {
     "data": {
      "text/plain": [
       "array([[<__main__.Marker object at 0x7fb22807c550>,\n",
       "        <__main__.Marker object at 0x7fb22807c550>,\n",
       "        <__main__.Marker object at 0x7fb22807c550>,\n",
       "        <__main__.Marker object at 0x7fb22807c550>],\n",
       "       [<__main__.Marker object at 0x7fb22807c550>,\n",
       "        <__main__.Marker object at 0x7fb22807c510>,\n",
       "        <__main__.Marker object at 0x7fb22807c510>,\n",
       "        <__main__.Marker object at 0x7fb22807c550>],\n",
       "       [<__main__.Marker object at 0x7fb22807c550>,\n",
       "        <__main__.Marker object at 0x7fb22807c550>,\n",
       "        <__main__.Marker object at 0x7fb22807c550>,\n",
       "        <__main__.Marker object at 0x7fb22807c550>],\n",
       "       [<__main__.Marker object at 0x7fb22807c550>,\n",
       "        <__main__.Marker object at 0x7fb22807c590>,\n",
       "        <__main__.Marker object at 0x7fb22807c590>,\n",
       "        <__main__.Marker object at 0x7fb22807c550>],\n",
       "       [<__main__.Marker object at 0x7fb22807c550>,\n",
       "        <__main__.Marker object at 0x7fb22807c550>,\n",
       "        <__main__.Marker object at 0x7fb22807c550>,\n",
       "        <__main__.Marker object at 0x7fb22807c550>]], dtype=object)"
      ]
     },
     "execution_count": 28,
     "metadata": {},
     "output_type": "execute_result"
    }
   ],
   "source": [
    "%time solve_by_pulp(day_problem)"
   ]
  },
  {
   "cell_type": "code",
   "execution_count": 29,
   "metadata": {},
   "outputs": [
    {
     "name": "stdout",
     "output_type": "stream",
     "text": [
      "CPU times: user 268 ms, sys: 15.3 ms, total: 284 ms\n",
      "Wall time: 391 ms\n"
     ]
    },
    {
     "data": {
      "text/plain": [
       "array([[<__main__.Marker object at 0x7fb22807ce90>,\n",
       "        <__main__.Marker object at 0x7fb22807ce90>,\n",
       "        <__main__.Marker object at 0x7fb22807ced0>,\n",
       "        <__main__.Marker object at 0x7fb22807cc90>,\n",
       "        <__main__.Marker object at 0x7fb22807cc90>,\n",
       "        <__main__.Marker object at 0x7fb22807cc90>,\n",
       "        <__main__.Marker object at 0x7fb22807cf50>,\n",
       "        <__main__.Marker object at 0x7fb22807cf50>,\n",
       "        <__main__.Marker object at 0x7fb22807cd50>],\n",
       "       [<__main__.Marker object at 0x7fb228082110>,\n",
       "        <__main__.Marker object at 0x7fb22807ced0>,\n",
       "        <__main__.Marker object at 0x7fb22807ced0>,\n",
       "        <__main__.Marker object at 0x7fb2280820d0>,\n",
       "        <__main__.Marker object at 0x7fb22807cf10>,\n",
       "        <__main__.Marker object at 0x7fb22807cfd0>,\n",
       "        <__main__.Marker object at 0x7fb22807cf50>,\n",
       "        <__main__.Marker object at 0x7fb22807cf90>,\n",
       "        <__main__.Marker object at 0x7fb22807cf50>],\n",
       "       [<__main__.Marker object at 0x7fb228082110>,\n",
       "        <__main__.Marker object at 0x7fb22807ced0>,\n",
       "        <__main__.Marker object at 0x7fb228082050>,\n",
       "        <__main__.Marker object at 0x7fb2280820d0>,\n",
       "        <__main__.Marker object at 0x7fb228082090>,\n",
       "        <__main__.Marker object at 0x7fb22807cfd0>,\n",
       "        <__main__.Marker object at 0x7fb22807cf50>,\n",
       "        <__main__.Marker object at 0x7fb22807cf50>,\n",
       "        <__main__.Marker object at 0x7fb22807cf50>],\n",
       "       [<__main__.Marker object at 0x7fb228082110>,\n",
       "        <__main__.Marker object at 0x7fb2280820d0>,\n",
       "        <__main__.Marker object at 0x7fb2280820d0>,\n",
       "        <__main__.Marker object at 0x7fb2280820d0>,\n",
       "        <__main__.Marker object at 0x7fb2280820d0>,\n",
       "        <__main__.Marker object at 0x7fb2280820d0>,\n",
       "        <__main__.Marker object at 0x7fb22807cf50>,\n",
       "        <__main__.Marker object at 0x7fb22807cf50>,\n",
       "        <__main__.Marker object at 0x7fb22807cf50>],\n",
       "       [<__main__.Marker object at 0x7fb228082110>,\n",
       "        <__main__.Marker object at 0x7fb228082250>,\n",
       "        <__main__.Marker object at 0x7fb228082150>,\n",
       "        <__main__.Marker object at 0x7fb2280820d0>,\n",
       "        <__main__.Marker object at 0x7fb228082190>,\n",
       "        <__main__.Marker object at 0x7fb2280821d0>,\n",
       "        <__main__.Marker object at 0x7fb22807cf50>,\n",
       "        <__main__.Marker object at 0x7fb228082210>,\n",
       "        <__main__.Marker object at 0x7fb22807cf50>],\n",
       "       [<__main__.Marker object at 0x7fb228082110>,\n",
       "        <__main__.Marker object at 0x7fb228082250>,\n",
       "        <__main__.Marker object at 0x7fb228082250>,\n",
       "        <__main__.Marker object at 0x7fb2280820d0>,\n",
       "        <__main__.Marker object at 0x7fb228082410>,\n",
       "        <__main__.Marker object at 0x7fb2280822d0>,\n",
       "        <__main__.Marker object at 0x7fb228082290>,\n",
       "        <__main__.Marker object at 0x7fb22807cf50>,\n",
       "        <__main__.Marker object at 0x7fb22807cf50>],\n",
       "       [<__main__.Marker object at 0x7fb228082110>,\n",
       "        <__main__.Marker object at 0x7fb228082310>,\n",
       "        <__main__.Marker object at 0x7fb228082250>,\n",
       "        <__main__.Marker object at 0x7fb228082350>,\n",
       "        <__main__.Marker object at 0x7fb228082410>,\n",
       "        <__main__.Marker object at 0x7fb2280822d0>,\n",
       "        <__main__.Marker object at 0x7fb228082390>,\n",
       "        <__main__.Marker object at 0x7fb228082390>,\n",
       "        <__main__.Marker object at 0x7fb2280823d0>],\n",
       "       [<__main__.Marker object at 0x7fb228082110>,\n",
       "        <__main__.Marker object at 0x7fb228082450>,\n",
       "        <__main__.Marker object at 0x7fb2280824d0>,\n",
       "        <__main__.Marker object at 0x7fb2280824d0>,\n",
       "        <__main__.Marker object at 0x7fb228082410>,\n",
       "        <__main__.Marker object at 0x7fb228082490>,\n",
       "        <__main__.Marker object at 0x7fb228082490>,\n",
       "        <__main__.Marker object at 0x7fb228082490>,\n",
       "        <__main__.Marker object at 0x7fb228082510>],\n",
       "       [<__main__.Marker object at 0x7fb228082550>,\n",
       "        <__main__.Marker object at 0x7fb2280824d0>,\n",
       "        <__main__.Marker object at 0x7fb2280824d0>,\n",
       "        <__main__.Marker object at 0x7fb228082590>,\n",
       "        <__main__.Marker object at 0x7fb228082410>,\n",
       "        <__main__.Marker object at 0x7fb2280825d0>,\n",
       "        <__main__.Marker object at 0x7fb2280825d0>,\n",
       "        <__main__.Marker object at 0x7fb2280825d0>,\n",
       "        <__main__.Marker object at 0x7fb228082510>]], dtype=object)"
      ]
     },
     "execution_count": 29,
     "metadata": {},
     "output_type": "execute_result"
    }
   ],
   "source": [
    "%time solve_by_pulp(oni_problem)"
   ]
  },
  {
   "cell_type": "code",
   "execution_count": 30,
   "metadata": {},
   "outputs": [],
   "source": [
    "import matplotlib.patches as patches"
   ]
  },
  {
   "cell_type": "code",
   "execution_count": 31,
   "metadata": {},
   "outputs": [],
   "source": [
    "def draw_answer(problem, answer):\n",
    "    # まず問題を描画\n",
    "    fig = draw_problem(problem)\n",
    "    ax = fig.axes[0]\n",
    "    \n",
    "    # 判断用の関数\n",
    "    is_not_bottom_cell = lambda row: (row != (problem.row_size - 1))\n",
    "    is_not_same_to_down = lambda row, col: (answer[row,col] != answer[row+1,col])\n",
    "    is_not_right_cell = lambda col: (col != (problem.col_size - 1))\n",
    "    is_not_same_to_right = lambda row, col: (answer[row,col] != answer[row,col+1])\n",
    "    \n",
    "    for row in range(problem.row_size):\n",
    "        for col in range(problem.col_size):\n",
    "            cell_top = -row + 0.5\n",
    "            cell_bottom = -row - 0.5\n",
    "            cell_left = col - 0.5\n",
    "            cell_right = col + 0.5\n",
    "            \n",
    "            # 塗りつぶし\n",
    "            if answer[row,col].color == Marker.Color.BLACK:\n",
    "                ax.add_patch(patches.Rectangle((cell_left, cell_bottom), 1, 1, lw=None, fc='black', alpha=0.3))\n",
    "\n",
    "            # 区切り線\n",
    "            if is_not_bottom_cell(row) and is_not_same_to_down(row, col):\n",
    "                ax.plot([cell_left, cell_right], [cell_bottom, cell_bottom], lw=1.5, color='black')\n",
    "            if is_not_right_cell(col) and is_not_same_to_right(row, col):\n",
    "                ax.plot([cell_right, cell_right], [cell_top, cell_bottom], lw=1.5, color='black')\n",
    "\n",
    "    return fig"
   ]
  },
  {
   "cell_type": "code",
   "execution_count": 32,
   "metadata": {},
   "outputs": [
    {
     "data": {
      "image/png": "[encoded data removed]",
      "text/plain": [
       "<Figure size 360x360 with 1 Axes>"
      ]
     },
     "metadata": {
      "needs_background": "light"
     },
     "output_type": "display_data"
    }
   ],
   "source": [
    "answer = solve_by_picos(problem)\n",
    "example_answer = draw_answer(problem, answer)\n",
    "example_answer;"
   ]
  },
  {
   "cell_type": "code",
   "execution_count": 33,
   "metadata": {},
   "outputs": [
    {
     "data": {
      "image/png": "[encoded data removed]",
      "text/plain": [
       "<Figure size 288x360 with 1 Axes>"
      ]
     },
     "metadata": {
      "needs_background": "light"
     },
     "output_type": "display_data"
    }
   ],
   "source": [
    "answer = solve_by_picos(day_problem)\n",
    "day_answer = draw_answer(day_problem, answer)\n",
    "day_answer;"
   ]
  },
  {
   "cell_type": "code",
   "execution_count": 34,
   "metadata": {},
   "outputs": [
    {
     "data": {
      "image/png": "[encoded data removed]",
      "text/plain": [
       "<Figure size 648x648 with 1 Axes>"
      ]
     },
     "metadata": {
      "needs_background": "light"
     },
     "output_type": "display_data"
    }
   ],
   "source": [
    "answer = solve_by_picos(oni_problem)\n",
    "oni_answer = draw_answer(oni_problem, answer)\n",
    "oni_answer;"
   ]
  },
  {
   "cell_type": "raw",
   "metadata": {},
   "source": [
    "example_answer.savefig(example_dir/'example_answer.png', bbox_inches='tight')\n",
    "day_answer.savefig(example_dir/'day_answer.png', bbox_inches='tight')\n",
    "oni_answer.savefig(example_dir/'oni_answer.png', bbox_inches='tight')"
   ]
  },
  {
   "cell_type": "code",
   "execution_count": null,
   "metadata": {},
   "outputs": [],
   "source": []
  }
 ],
 "metadata": {
  "kernelspec": {
   "display_name": "Python 3",
   "language": "python",
   "name": "python3"
  },
  "language_info": {
   "codemirror_mode": {
    "name": "ipython",
    "version": 3
   },
   "file_extension": ".py",
   "mimetype": "text/x-python",
   "name": "python",
   "nbconvert_exporter": "python",
   "pygments_lexer": "ipython3",
   "version": "3.7.4"
  }
 },
 "nbformat": 4,
 "nbformat_minor": 4
}
