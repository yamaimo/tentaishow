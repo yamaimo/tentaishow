{
 "cells": [
  {
   "cell_type": "code",
   "execution_count": 1,
   "metadata": {},
   "outputs": [],
   "source": [
    "import numpy as np\n",
    "import pandas as pd\n",
    "import matplotlib.pyplot as plt\n",
    "%matplotlib inline"
   ]
  },
  {
   "cell_type": "code",
   "execution_count": 2,
   "metadata": {},
   "outputs": [],
   "source": [
    "example = \"\"\"\\\n",
    "-----------\n",
    "| | |o|*|o|\n",
    "--o--------\n",
    "| | | * | |\n",
    "---------o-\n",
    "|o|*|o| | |\n",
    "-----------\n",
    "| * | |*| |\n",
    "-----------\n",
    "| |o| | |o|\n",
    "-----------\n",
    "\"\"\""
   ]
  },
  {
   "cell_type": "code",
   "execution_count": 3,
   "metadata": {},
   "outputs": [
    {
     "name": "stdout",
     "output_type": "stream",
     "text": [
      "-----------\n",
      "| | |o|*|o|\n",
      "--o--------\n",
      "| | | * | |\n",
      "---------o-\n",
      "|o|*|o| | |\n",
      "-----------\n",
      "| * | |*| |\n",
      "-----------\n",
      "| |o| | |o|\n",
      "-----------\n",
      "\n"
     ]
    }
   ],
   "source": [
    "print(example)"
   ]
  },
  {
   "cell_type": "code",
   "execution_count": 4,
   "metadata": {},
   "outputs": [
    {
     "data": {
      "text/plain": [
       "['-----------',\n",
       " '| | |o|*|o|',\n",
       " '--o--------',\n",
       " '| | | * | |',\n",
       " '---------o-',\n",
       " '|o|*|o| | |',\n",
       " '-----------',\n",
       " '| * | |*| |',\n",
       " '-----------',\n",
       " '| |o| | |o|',\n",
       " '-----------']"
      ]
     },
     "execution_count": 4,
     "metadata": {},
     "output_type": "execute_result"
    }
   ],
   "source": [
    "lines = example.splitlines()\n",
    "lines"
   ]
  },
  {
   "cell_type": "code",
   "execution_count": 5,
   "metadata": {},
   "outputs": [],
   "source": [
    "from enum import Enum\n",
    "\n",
    "class Marker:\n",
    "    class Color(Enum):\n",
    "        WHITE = 0\n",
    "        BLACK = 1\n",
    "    \n",
    "    def __init__(self, color, row, col):\n",
    "        self.color = color\n",
    "        self.row = row\n",
    "        self.col = col"
   ]
  },
  {
   "cell_type": "code",
   "execution_count": 6,
   "metadata": {},
   "outputs": [
    {
     "name": "stdout",
     "output_type": "stream",
     "text": [
      "Color.WHITE, (0, 1)\n"
     ]
    }
   ],
   "source": [
    "marker = Marker(Marker.Color.WHITE, 0, 1)\n",
    "print(f'{marker.color}, ({marker.row}, {marker.col})')"
   ]
  },
  {
   "cell_type": "code",
   "execution_count": 7,
   "metadata": {},
   "outputs": [],
   "source": [
    "class Problem:\n",
    "    @classmethod\n",
    "    def read_str(cls, contents):\n",
    "        lines = contents.splitlines()\n",
    "        row_size = len(lines) // 2\n",
    "        col_size = len(lines[0]) // 2\n",
    "        markers = []\n",
    "        for r_idx, line in enumerate(lines[1:-1]):  # 最初と最後の行は冗長なので無視\n",
    "            for c_idx, char in enumerate(line[1:-1]): # 最初と最後の列は冗長なので無視\n",
    "                row = r_idx / 2\n",
    "                col = c_idx / 2\n",
    "                if char == 'o':\n",
    "                    marker = Marker(Marker.Color.WHITE, row, col)\n",
    "                    markers.append(marker)\n",
    "                elif char == '*':\n",
    "                    marker = Marker(Marker.Color.BLACK, row, col)\n",
    "                    markers.append(marker)\n",
    "        return cls(row_size, col_size, markers)\n",
    "    \n",
    "    @classmethod\n",
    "    def read_file(cls, filepath):\n",
    "        with open(filepath) as f:\n",
    "            contents = f.read()\n",
    "        return cls.read_str(contents)    \n",
    "    \n",
    "    def __init__(self, row_size, col_size, markers):\n",
    "        self.row_size = row_size\n",
    "        self.col_size = col_size\n",
    "        self.markers = markers"
   ]
  },
  {
   "cell_type": "code",
   "execution_count": 8,
   "metadata": {},
   "outputs": [],
   "source": [
    "problem = Problem.read_str(example)"
   ]
  },
  {
   "cell_type": "code",
   "execution_count": 9,
   "metadata": {},
   "outputs": [
    {
     "name": "stdout",
     "output_type": "stream",
     "text": [
      "5\n",
      "5\n",
      "Color.WHITE, (0.0, 2.0)\n",
      "Color.BLACK, (0.0, 3.0)\n",
      "Color.WHITE, (0.0, 4.0)\n",
      "Color.WHITE, (0.5, 0.5)\n",
      "Color.BLACK, (1.0, 2.5)\n",
      "Color.WHITE, (1.5, 4.0)\n",
      "Color.WHITE, (2.0, 0.0)\n",
      "Color.BLACK, (2.0, 1.0)\n",
      "Color.WHITE, (2.0, 2.0)\n",
      "Color.BLACK, (3.0, 0.5)\n",
      "Color.BLACK, (3.0, 3.0)\n",
      "Color.WHITE, (4.0, 1.0)\n",
      "Color.WHITE, (4.0, 4.0)\n"
     ]
    }
   ],
   "source": [
    "print(problem.row_size)\n",
    "print(problem.col_size)\n",
    "for marker in problem.markers:\n",
    "    print(f'{marker.color}, ({marker.row}, {marker.col})')"
   ]
  },
  {
   "cell_type": "code",
   "execution_count": 10,
   "metadata": {},
   "outputs": [],
   "source": [
    "from pathlib import Path"
   ]
  },
  {
   "cell_type": "code",
   "execution_count": 11,
   "metadata": {},
   "outputs": [],
   "source": [
    "example_dir = Path('example_problems')\n",
    "problem = Problem.read_file(example_dir/'example.txt')"
   ]
  },
  {
   "cell_type": "code",
   "execution_count": 12,
   "metadata": {},
   "outputs": [
    {
     "name": "stdout",
     "output_type": "stream",
     "text": [
      "5\n",
      "5\n",
      "[ 0] Color.WHITE, (0.0, 2.0)\n",
      "[ 1] Color.BLACK, (0.0, 3.0)\n",
      "[ 2] Color.WHITE, (0.0, 4.0)\n",
      "[ 3] Color.WHITE, (0.5, 0.5)\n",
      "[ 4] Color.BLACK, (1.0, 2.5)\n",
      "[ 5] Color.WHITE, (1.5, 4.0)\n",
      "[ 6] Color.WHITE, (2.0, 0.0)\n",
      "[ 7] Color.BLACK, (2.0, 1.0)\n",
      "[ 8] Color.WHITE, (2.0, 2.0)\n",
      "[ 9] Color.BLACK, (3.0, 0.5)\n",
      "[10] Color.BLACK, (3.0, 3.0)\n",
      "[11] Color.WHITE, (4.0, 1.0)\n",
      "[12] Color.WHITE, (4.0, 4.0)\n"
     ]
    }
   ],
   "source": [
    "print(problem.row_size)\n",
    "print(problem.col_size)\n",
    "for i, marker in enumerate(problem.markers):\n",
    "    print(f'[{i:2}] {marker.color}, ({marker.row}, {marker.col})')"
   ]
  },
  {
   "cell_type": "code",
   "execution_count": 13,
   "metadata": {},
   "outputs": [
    {
     "name": "stdout",
     "output_type": "stream",
     "text": [
      "5\n",
      "4\n",
      "[0] Color.WHITE, (1.0, 1.5)\n",
      "[1] Color.BLACK, (2.0, 1.5)\n",
      "[2] Color.WHITE, (3.0, 1.5)\n"
     ]
    }
   ],
   "source": [
    "day_problem = Problem.read_file(example_dir/'day.txt')\n",
    "print(day_problem.row_size)\n",
    "print(day_problem.col_size)\n",
    "for i, marker in enumerate(day_problem.markers):\n",
    "    print(f'[{i}] {marker.color}, ({marker.row}, {marker.col})')"
   ]
  },
  {
   "cell_type": "code",
   "execution_count": 14,
   "metadata": {},
   "outputs": [
    {
     "name": "stdout",
     "output_type": "stream",
     "text": [
      "9\n",
      "9\n",
      "[ 0] Color.WHITE, (0.0, 0.5)\n",
      "[ 1] Color.WHITE, (0.0, 4.0)\n",
      "[ 2] Color.WHITE, (0.0, 8.0)\n",
      "[ 3] Color.BLACK, (1.0, 1.5)\n",
      "[ 4] Color.BLACK, (1.0, 4.0)\n",
      "[ 5] Color.WHITE, (1.0, 7.0)\n",
      "[ 6] Color.BLACK, (1.5, 5.0)\n",
      "[ 7] Color.WHITE, (2.0, 2.0)\n",
      "[ 8] Color.WHITE, (2.0, 4.0)\n",
      "[ 9] Color.WHITE, (2.5, 7.0)\n",
      "[10] Color.BLACK, (3.0, 3.0)\n",
      "[11] Color.WHITE, (4.0, 0.0)\n",
      "[12] Color.WHITE, (4.0, 2.0)\n",
      "[13] Color.WHITE, (4.0, 4.0)\n",
      "[14] Color.BLACK, (4.0, 5.0)\n",
      "[15] Color.WHITE, (4.0, 7.0)\n",
      "[16] Color.BLACK, (5.0, 1.5)\n",
      "[17] Color.BLACK, (5.0, 6.0)\n",
      "[18] Color.WHITE, (5.5, 5.0)\n",
      "[19] Color.WHITE, (6.0, 1.0)\n",
      "[20] Color.WHITE, (6.0, 3.0)\n",
      "[21] Color.BLACK, (6.0, 6.5)\n",
      "[22] Color.WHITE, (6.0, 8.0)\n",
      "[23] Color.BLACK, (6.5, 4.0)\n",
      "[24] Color.BLACK, (7.0, 1.0)\n",
      "[25] Color.WHITE, (7.0, 6.0)\n",
      "[26] Color.WHITE, (7.5, 2.0)\n",
      "[27] Color.BLACK, (7.5, 8.0)\n",
      "[28] Color.BLACK, (8.0, 0.0)\n",
      "[29] Color.WHITE, (8.0, 3.0)\n",
      "[30] Color.BLACK, (8.0, 6.0)\n"
     ]
    }
   ],
   "source": [
    "oni_problem = Problem.read_file(example_dir/'oni.txt')\n",
    "print(oni_problem.row_size)\n",
    "print(oni_problem.col_size)\n",
    "for i, marker in enumerate(oni_problem.markers):\n",
    "    print(f'[{i:2}] {marker.color}, ({marker.row}, {marker.col})')"
   ]
  },
  {
   "cell_type": "code",
   "execution_count": 15,
   "metadata": {},
   "outputs": [],
   "source": [
    "def draw_problem(problem):\n",
    "    fig, ax = plt.subplots(figsize=(problem.col_size, problem.row_size))\n",
    "    ax.xaxis.set_visible(False)\n",
    "    ax.yaxis.set_visible(False)\n",
    "    ax.set_aspect('equal')\n",
    "    \n",
    "    # 座標を(x, y) = (col, -row)とし、\n",
    "    # 左上が(-0.5, 0.5)、右下が(problem.col_size - 0.5, -problem.row_size + 0.5)の矩形内に描画する\n",
    "    top = 0.5\n",
    "    bottom = -problem.row_size + 0.5\n",
    "    left = -0.5\n",
    "    right = problem.col_size - 0.5\n",
    "    \n",
    "    # 外枠\n",
    "    ax.plot([left, right, right, left, left], [top, top, bottom, bottom, top], lw=2, color='black')\n",
    "    \n",
    "    # 縦線\n",
    "    for col in range(problem.col_size - 1):\n",
    "        cell_right = col + 0.5\n",
    "        ax.plot([cell_right, cell_right], [top, bottom], lw=1, color='black', linestyle='dashed')\n",
    "\n",
    "    # 横線\n",
    "    for row in range(problem.row_size - 1):\n",
    "        cell_bottom = - row - 0.5\n",
    "        ax.plot([left, right], [cell_bottom, cell_bottom], lw=1, color='black', linestyle='dashed')\n",
    "\n",
    "    # マーカー\n",
    "    for marker in problem.markers:\n",
    "        color = 'white' if marker.color == Marker.Color.WHITE else 'black'\n",
    "        ax.scatter(marker.col, -marker.row, s=250, c=color, edgecolors='black', linewidths=2)\n",
    "\n",
    "    return fig"
   ]
  },
  {
   "cell_type": "code",
   "execution_count": 16,
   "metadata": {},
   "outputs": [
    {
     "data": {
      "image/png": "[encoded data removed]",
      "text/plain": [
       "<Figure size 360x360 with 1 Axes>"
      ]
     },
     "metadata": {
      "needs_background": "light"
     },
     "output_type": "display_data"
    }
   ],
   "source": [
    "example_fig = draw_problem(problem)\n",
    "example_fig;"
   ]
  },
  {
   "cell_type": "code",
   "execution_count": 17,
   "metadata": {},
   "outputs": [
    {
     "data": {
      "image/png": "[encoded data removed]",
      "text/plain": [
       "<Figure size 288x360 with 1 Axes>"
      ]
     },
     "metadata": {
      "needs_background": "light"
     },
     "output_type": "display_data"
    }
   ],
   "source": [
    "day_fig = draw_problem(day_problem)\n",
    "day_fig;"
   ]
  },
  {
   "cell_type": "code",
   "execution_count": 18,
   "metadata": {},
   "outputs": [
    {
     "data": {
      "image/png": "[encoded data removed]",
      "text/plain": [
       "<Figure size 648x648 with 1 Axes>"
      ]
     },
     "metadata": {
      "needs_background": "light"
     },
     "output_type": "display_data"
    }
   ],
   "source": [
    "oni_fig = draw_problem(oni_problem)\n",
    "oni_fig;"
   ]
  },
  {
   "cell_type": "raw",
   "metadata": {},
   "source": [
    "example_fig.savefig(example_dir/'example.png', bbox_inches='tight')\n",
    "day_fig.savefig(example_dir/'day.png', bbox_inches='tight')\n",
    "oni_fig.savefig(example_dir/'oni.png', bbox_inches='tight')"
   ]
  },
  {
   "cell_type": "code",
   "execution_count": null,
   "metadata": {},
   "outputs": [],
   "source": []
  }
 ],
 "metadata": {
  "kernelspec": {
   "display_name": "Python 3",
   "language": "python",
   "name": "python3"
  },
  "language_info": {
   "codemirror_mode": {
    "name": "ipython",
    "version": 3
   },
   "file_extension": ".py",
   "mimetype": "text/x-python",
   "name": "python",
   "nbconvert_exporter": "python",
   "pygments_lexer": "ipython3",
   "version": "3.7.4"
  }
 },
 "nbformat": 4,
 "nbformat_minor": 4
}
